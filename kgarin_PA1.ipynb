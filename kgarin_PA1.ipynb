{
 "cells": [
  {
   "cell_type": "markdown",
   "metadata": {},
   "source": [
    "# CS 458 Data Mining Project 1\n",
    "Kayla Garin\n",
    "Fall 2020"
   ]
  },
  {
   "cell_type": "markdown",
   "metadata": {},
   "source": [
    "# Question 1A\n",
    "Generate 1000 pointsfollowing a uniform distributionunder a given dimension, and then compute difference between max and min distance between any pair of points."
   ]
  },
  {
   "cell_type": "code",
   "execution_count": 3,
   "metadata": {},
   "outputs": [
    {
     "name": "stdout",
     "output_type": "stream",
     "text": [
      "[6.717677190873701]\n"
     ]
    }
   ],
   "source": [
    "#\n",
    "# Kayla Garin\n",
    "# CS 458 P1-1A\n",
    "\n",
    "import numpy as np\n",
    "import pandas as pd\n",
    "from pandas import DataFrame\n",
    "from scipy.spatial.distance import pdist\n",
    "%matplotlib inline\n",
    "\n",
    "yval = []\n",
    "\n",
    "x = np.random.rand(1000, 1) #randomly generated points \n",
    "y = pdist(x, 'euclidean') #create array of distances b/w pairs of points\n",
    "min_dist = min(y) #find min dist\n",
    "max_dist = max(y) #find max dist\n",
    "yval.append(np.log10((max_dist - min_dist) / min_dist)) \n",
    "\n",
    "print(yval)"
   ]
  },
  {
   "cell_type": "markdown",
   "metadata": {},
   "source": [
    "# Question 1B\n",
    "Repeat (a) for different dimensions from 2 to 50.Plot log10(max−min)/min under different number of dimensions. "
   ]
  },
  {
   "cell_type": "code",
   "execution_count": 4,
   "metadata": {},
   "outputs": [
    {
     "ename": "NameError",
     "evalue": "name 'plt' is not defined",
     "output_type": "error",
     "traceback": [
      "\u001b[0;31m---------------------------------------------------------------------------\u001b[0m",
      "\u001b[0;31mNameError\u001b[0m                                 Traceback (most recent call last)",
      "\u001b[0;32m<ipython-input-4-a71d3d5d2afc>\u001b[0m in \u001b[0;36m<module>\u001b[0;34m\u001b[0m\n\u001b[1;32m     21\u001b[0m \u001b[0mplotvals\u001b[0m \u001b[0;34m=\u001b[0m \u001b[0mpd\u001b[0m\u001b[0;34m.\u001b[0m\u001b[0mSeries\u001b[0m\u001b[0;34m(\u001b[0m\u001b[0myval\u001b[0m\u001b[0;34m,\u001b[0m \u001b[0mindex\u001b[0m \u001b[0;34m=\u001b[0m \u001b[0mxval\u001b[0m\u001b[0;34m)\u001b[0m \u001b[0;31m#create one dimensional array\u001b[0m\u001b[0;34m\u001b[0m\u001b[0;34m\u001b[0m\u001b[0m\n\u001b[1;32m     22\u001b[0m \u001b[0mplotvals\u001b[0m\u001b[0;34m.\u001b[0m\u001b[0mplot\u001b[0m\u001b[0;34m(\u001b[0m\u001b[0mkind\u001b[0m\u001b[0;34m=\u001b[0m\u001b[0;34m'line'\u001b[0m\u001b[0;34m,\u001b[0m \u001b[0mtitle\u001b[0m\u001b[0;34m=\u001b[0m\u001b[0;34m'Curse of Dimensionality'\u001b[0m\u001b[0;34m)\u001b[0m\u001b[0;34m\u001b[0m\u001b[0;34m\u001b[0m\u001b[0m\n\u001b[0;32m---> 23\u001b[0;31m \u001b[0mplt\u001b[0m\u001b[0;34m.\u001b[0m\u001b[0mxlabel\u001b[0m\u001b[0;34m(\u001b[0m\u001b[0;34m'Dimensions'\u001b[0m\u001b[0;34m)\u001b[0m\u001b[0;34m\u001b[0m\u001b[0;34m\u001b[0m\u001b[0m\n\u001b[0m\u001b[1;32m     24\u001b[0m \u001b[0mplt\u001b[0m\u001b[0;34m.\u001b[0m\u001b[0mylabel\u001b[0m\u001b[0;34m(\u001b[0m\u001b[0;34m'log$_1$$_0$((MAX_DIST - MIN_DIST) / MIN_DIST)'\u001b[0m\u001b[0;34m)\u001b[0m\u001b[0;34m\u001b[0m\u001b[0;34m\u001b[0m\u001b[0m\n\u001b[1;32m     25\u001b[0m \u001b[0mplt\u001b[0m\u001b[0;34m.\u001b[0m\u001b[0mshow\u001b[0m\u001b[0;34m(\u001b[0m\u001b[0;34m)\u001b[0m\u001b[0;34m\u001b[0m\u001b[0;34m\u001b[0m\u001b[0m\n",
      "\u001b[0;31mNameError\u001b[0m: name 'plt' is not defined"
     ]
    },
    {
     "data": {
      "image/png": "[encoded data removed]",
      "text/plain": [
       "<Figure size 432x288 with 1 Axes>"
      ]
     },
     "metadata": {
      "needs_background": "light"
     },
     "output_type": "display_data"
    }
   ],
   "source": [
    "#\n",
    "# Kayla Garin\n",
    "#CS 458 P1-1B\n",
    "\n",
    "import numpy as np\n",
    "import pandas as pd\n",
    "from pandas import DataFrame\n",
    "from scipy.spatial.distance import pdist\n",
    "%matplotlib inline\n",
    "\n",
    "xval = list(range(2, 51)) # array for dimensions \n",
    "yval = [] #array to store distances\n",
    "\n",
    "for i in range(2, 51):\n",
    "    x = np.random.rand(1000, i) #randomly generated points \n",
    "    y = pdist(x, 'euclidean') #create array of distances b/w pairs of points\n",
    "    min_dist = min(y) #find min dist\n",
    "    max_dist = max(y) #find max dist\n",
    "    yval.append(np.log10((max_dist - min_dist) / min_dist)) \n",
    "\n",
    "plotvals = pd.Series(yval, index = xval) #create one dimensional array \n",
    "plotvals.plot(kind='line', title='Curse of Dimensionality')\n",
    "plt.xlabel('Dimensions') \n",
    "plt.ylabel('log$_1$$_0$((MAX_DIST - MIN_DIST) / MIN_DIST)')\n",
    "plt.show()"
   ]
  },
  {
   "cell_type": "markdown",
   "metadata": {},
   "source": [
    "# Question 2A\n",
    "Recreate given scatter plot on iris dataset"
   ]
  },
  {
   "cell_type": "code",
   "execution_count": null,
   "metadata": {},
   "outputs": [],
   "source": [
    "#\n",
    "# Kayla Garin\n",
    "# CS 458 P1-2A\n",
    "\n",
    "from sklearn.datasets import load_iris\n",
    "from numpy import array\n",
    "from pandas import DataFrame\n",
    "import numpy as np\n",
    "import pandas as pd\n",
    "\n",
    "\n",
    "iris = load_iris() # Load Iris data\n",
    "df = DataFrame(iris.data, columns=iris.feature_names) #create two dimensional tabular data\n",
    "colors=array(50*['r']+50*['g']+50*['b']) #set custom colors\n",
    "pd.plotting.scatter_matrix(df, figsize=(10,10), color=colors, diagonal = None) #create scatter plot and display\n",
    "\n",
    "plt.show()"
   ]
  },
  {
   "cell_type": "markdown",
   "metadata": {},
   "source": [
    "# Question 2B\n",
    "Find the best discretization for the petal lengthand the petal widththat can best separate the Iris data and plot a figure similar to the figure in slide 54 in Chapter 2. For each flower type, list in a table how many data samples are correctly separated and how many are not correctly separated."
   ]
  },
  {
   "cell_type": "code",
   "execution_count": null,
   "metadata": {},
   "outputs": [],
   "source": [
    "#\n",
    "#Kayla Garin\n",
    "#P1-2 B\n",
    "\n",
    "from sklearn import datasets\n",
    "import pandas as pd\n",
    "import matplotlib.pyplot as plt\n",
    "\n",
    "#Load Iris data\n",
    "iris = datasets.load_iris()\n",
    "iris_df = pd.DataFrame(iris['data'], columns=iris['feature_names'])\n",
    "iris_df['species'] = iris['target']\n",
    "\n",
    "MarkerStyle = ['s', 'o', 'D'] #create array for custom marker style \n",
    "species = ['Setosa', 'Versicolor', 'Virginica'] \n",
    "\n",
    "for i in range(0, 3):    #for loop to iterate through species\n",
    "    species_df = iris_df[iris_df['species'] == i]    \n",
    "  \n",
    "    plt.scatter( \n",
    "        species_df['petal width (cm)'], #x axis data     \n",
    "        species_df['petal length (cm)'], #y axis data\n",
    "        marker=MarkerStyle[i], #load custom markers\n",
    "        alpha=0.5,  #scalar to easily identify individual points (changes opacity)   \n",
    "        label=species[i] #Match data to label for legend   \n",
    "    )\n",
    "\n",
    "plt.xlabel('Petal Width (cm)') #Set X axis label\n",
    "plt.ylabel('Petal Length (cm)') #Set Y axis label\n",
    "plt.title('Discretization: Iris Example') #Set Title\n",
    "plt.legend(loc='lower right') #Set Legend Location\n",
    "\n",
    "plt.show()"
   ]
  },
  {
   "cell_type": "markdown",
   "metadata": {},
   "source": [
    "# Question 3A\n",
    "Use the Iris dataset and plot all the samples in a figure using Sepal Length and Sepal Width, i.e., xlabel('Sepal length') and ylabel('Sepal width'). "
   ]
  },
  {
   "cell_type": "code",
   "execution_count": null,
   "metadata": {},
   "outputs": [],
   "source": [
    "#\n",
    "#Kayla Garin\n",
    "#CS 458 P1-3A\n",
    "\n",
    "import pandas as pd\n",
    "import matplotlib.pyplot as plt\n",
    "from sklearn.decomposition import PCA\n",
    "\n",
    "#Load Iris Data\n",
    "iris = datasets.load_iris()\n",
    "iris_df = pd.DataFrame(iris['data'], columns=iris['feature_names'])\n",
    "iris_df['species'] = iris['target']\n",
    "\n",
    "MarkerStyle = ['s', 'o', 'D'] #create array for marker style \n",
    "species = ['Setosa', 'Versicolor', 'Virginica']\n",
    "\n",
    "for i in range(0, 3):    \n",
    "    species_df = iris_df[iris_df['species'] == i]    \n",
    "  \n",
    "    plt.scatter( \n",
    "        species_df['sepal length (cm)'], #x axis data     \n",
    "        species_df['sepal width (cm)'], #y axis data\n",
    "        marker=MarkerStyle[i], #load custom markerds\n",
    "        alpha=0.5,  #scalar to easily identify individual points (changes opacity)   \n",
    "        label=species[i] #Match data to label for legend   \n",
    "    )\n",
    "\n",
    "plt.xlabel('sepal length (cm)') #Set X axis label\n",
    "plt.ylabel('sepal width (cm)') #Set Y axis label\n",
    "plt.title('Sepal Length x Sepal Width') #Set Title\n",
    "plt.legend(loc='lower right') #Set Legend Location\n",
    "\n",
    "plt.show()\n"
   ]
  },
  {
   "cell_type": "markdown",
   "metadata": {},
   "source": [
    "# Question 3B\n",
    "The Iris dataset has 4 attributes (sepal length, sepal width, petal length,and petal width). Use PCA to reduce the dimension of the dataset from 4 to 2. Plot all the samples after the dimensionality reduction in a 2D figure. Compare this figure with the figure in (a) and discuss whether you can better separate the data samples after the dimensionality reduction."
   ]
  },
  {
   "cell_type": "code",
   "execution_count": null,
   "metadata": {},
   "outputs": [],
   "source": [
    "#\n",
    "#Kayla Garin\n",
    "#CS 458 P1-3B\n",
    "\n",
    "import matplotlib.pyplot as plt\n",
    "from sklearn import datasets\n",
    "from sklearn.decomposition import PCA\n",
    "\n",
    "#Load Iris data \n",
    "iris = datasets.load_iris()\n",
    "X = iris.data\n",
    "y = iris.target\n",
    "target_names = iris.target_names\n",
    "\n",
    "X_r = pca.fit(X).transform(X) #fit model with x\n",
    "\n",
    "MarkerStyle = ['s', 'o', 'D'] #create array for marker style \n",
    "for color, i, target_name in zip(colors, [0, 1, 2], iris.target_names): #for loop to itterate through each species\n",
    "    plt.scatter(X_r[y == i, 0], X_r[y == i, 1], marker=MarkerStyle[i], alpha=0.5,\n",
    "                label=target_name)\n",
    "\n",
    "plt.title('PCA of Iris dataset')\n",
    "plt.legend(loc='lower right')\n",
    "plt.show()"
   ]
  }
 ],
 "metadata": {
  "kernelspec": {
   "display_name": "Python 3",
   "language": "python",
   "name": "python3"
  },
  "language_info": {
   "codemirror_mode": {
    "name": "ipython",
    "version": 3
   },
   "file_extension": ".py",
   "mimetype": "text/x-python",
   "name": "python",
   "nbconvert_exporter": "python",
   "pygments_lexer": "ipython3",
   "version": "3.8.3"
  }
 },
 "nbformat": 4,
 "nbformat_minor": 4
}
